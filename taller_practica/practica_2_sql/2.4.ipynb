{
    "metadata": {
        "kernelspec": {
            "name": "SQL",
            "display_name": "SQL",
            "language": "sql"
        },
        "language_info": {
            "name": "sql",
            "version": ""
        }
    },
    "nbformat_minor": 2,
    "nbformat": 4,
    "cells": [
        {
            "cell_type": "markdown",
            "source": [
                "#### a)"
            ],
            "metadata": {
                "azdata_cell_guid": "4de54372-9303-488a-b12c-df42a7c7dc12"
            },
            "attachments": {}
        },
        {
            "cell_type": "code",
            "source": [
                "SELECT * FROM Playlist\n",
                "EXCEPT\n",
                "SELECT p.PlaylistId,p.Name FROM Playlist p\n",
                "JOIN PlaylistTrack pt ON p.PlaylistId = pt.PlaylistId\n",
                "JOIN Track t ON t.TrackId = pt.TrackId\n",
                "JOIN Album al ON t.AlbumId = al.AlbumId\n",
                "JOIN Artist ar ON ar.ArtistId = al.ArtistId\n",
                "WHERE ar.Name IN ('Black Sabbath','Chico Buarque');"
            ],
            "metadata": {
                "azdata_cell_guid": "5537b950-ca9f-4814-9f8d-7d10953a5c87",
                "language": "sql"
            },
            "outputs": [
                {
                    "output_type": "display_data",
                    "data": {
                        "text/html": "(13 rows affected)"
                    },
                    "metadata": {}
                },
                {
                    "output_type": "display_data",
                    "data": {
                        "text/html": "Total execution time: 00:00:00.022"
                    },
                    "metadata": {}
                },
                {
                    "output_type": "execute_result",
                    "metadata": {},
                    "execution_count": 5,
                    "data": {
                        "application/vnd.dataresource+json": {
                            "schema": {
                                "fields": [
                                    {
                                        "name": "PlaylistId"
                                    },
                                    {
                                        "name": "Name"
                                    }
                                ]
                            },
                            "data": [
                                {
                                    "PlaylistId": "2",
                                    "Name": "Movies"
                                },
                                {
                                    "PlaylistId": "3",
                                    "Name": "TV Shows"
                                },
                                {
                                    "PlaylistId": "4",
                                    "Name": "Audiobooks"
                                },
                                {
                                    "PlaylistId": "6",
                                    "Name": "Audiobooks"
                                },
                                {
                                    "PlaylistId": "7",
                                    "Name": "Movies"
                                },
                                {
                                    "PlaylistId": "9",
                                    "Name": "Music Videos"
                                },
                                {
                                    "PlaylistId": "10",
                                    "Name": "TV Shows"
                                },
                                {
                                    "PlaylistId": "12",
                                    "Name": "Classical"
                                },
                                {
                                    "PlaylistId": "13",
                                    "Name": "Classical 101 - Deep Cuts"
                                },
                                {
                                    "PlaylistId": "14",
                                    "Name": "Classical 101 - Next Steps"
                                },
                                {
                                    "PlaylistId": "15",
                                    "Name": "Classical 101 - The Basics"
                                },
                                {
                                    "PlaylistId": "16",
                                    "Name": "Grunge"
                                },
                                {
                                    "PlaylistId": "18",
                                    "Name": "On-The-Go 1"
                                }
                            ]
                        },
                        "text/html": [
                            "<table>",
                            "<tr><th>PlaylistId</th><th>Name</th></tr>",
                            "<tr><td>2</td><td>Movies</td></tr>",
                            "<tr><td>3</td><td>TV Shows</td></tr>",
                            "<tr><td>4</td><td>Audiobooks</td></tr>",
                            "<tr><td>6</td><td>Audiobooks</td></tr>",
                            "<tr><td>7</td><td>Movies</td></tr>",
                            "<tr><td>9</td><td>Music Videos</td></tr>",
                            "<tr><td>10</td><td>TV Shows</td></tr>",
                            "<tr><td>12</td><td>Classical</td></tr>",
                            "<tr><td>13</td><td>Classical 101 - Deep Cuts</td></tr>",
                            "<tr><td>14</td><td>Classical 101 - Next Steps</td></tr>",
                            "<tr><td>15</td><td>Classical 101 - The Basics</td></tr>",
                            "<tr><td>16</td><td>Grunge</td></tr>",
                            "<tr><td>18</td><td>On-The-Go 1</td></tr>",
                            "</table>"
                        ]
                    }
                }
            ],
            "execution_count": 5
        },
        {
            "cell_type": "markdown",
            "source": [
                "#### b)"
            ],
            "metadata": {
                "azdata_cell_guid": "efd9ae35-e885-4369-a278-2d792af8ceea"
            },
            "attachments": {}
        },
        {
            "cell_type": "code",
            "source": [
                "SELECT c.CustomerId FROM Customer c\n",
                "JOIN Invoice i ON i.CustomerId = c.CustomerId\n",
                "JOIN InvoiceLine il ON i.InvoiceId = il.InvoiceId\n",
                "JOIN Track t ON t.TrackId = il.TrackId\n",
                "GROUP BY c.CustomerId\n",
                "HAVING COUNT(DISTINCT t.GenreId) = 1;"
            ],
            "metadata": {
                "azdata_cell_guid": "f63b814c-1110-45ea-88ca-731ae5c56611",
                "language": "sql"
            },
            "outputs": [
                {
                    "output_type": "display_data",
                    "data": {
                        "text/html": "(0 rows affected)"
                    },
                    "metadata": {}
                },
                {
                    "output_type": "display_data",
                    "data": {
                        "text/html": "Total execution time: 00:00:00.012"
                    },
                    "metadata": {}
                },
                {
                    "output_type": "execute_result",
                    "metadata": {},
                    "execution_count": 6,
                    "data": {
                        "application/vnd.dataresource+json": {
                            "schema": {
                                "fields": [
                                    {
                                        "name": "CustomerId"
                                    }
                                ]
                            },
                            "data": []
                        },
                        "text/html": [
                            "<table>",
                            "<tr><th>CustomerId</th></tr>",
                            "</table>"
                        ]
                    }
                }
            ],
            "execution_count": 6
        }
    ]
}