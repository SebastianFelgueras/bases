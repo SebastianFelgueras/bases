{
    "metadata": {
        "kernelspec": {
            "name": "SQL",
            "display_name": "SQL",
            "language": "sql"
        },
        "language_info": {
            "name": "sql",
            "version": ""
        }
    },
    "nbformat_minor": 2,
    "nbformat": 4,
    "cells": [
        {
            "cell_type": "markdown",
            "source": [
                "#### a)"
            ],
            "metadata": {
                "azdata_cell_guid": "672a6f72-faab-4f8f-bf74-034ef0839289"
            },
            "attachments": {}
        },
        {
            "cell_type": "code",
            "source": [
                "SELECT al.AlbumId FROM Album al \n",
                "INNER JOIN Track t ON t.AlbumId = al.AlbumId\n",
                "INNER JOIN PlaylistTrack pt ON pt.TrackId = t.TrackId\n",
                "GROUP BY al.AlbumId\n",
                "HAVING COUNT(DISTINCT pt.PlaylistId) = (SELECT COUNT(DISTINCT PlaylistId) FROM Playlist);"
            ],
            "metadata": {
                "azdata_cell_guid": "fd68bf1a-79cc-47c2-9476-b87794d25f91",
                "language": "sql"
            },
            "outputs": [
                {
                    "output_type": "display_data",
                    "data": {
                        "text/html": "(0 rows affected)"
                    },
                    "metadata": {}
                },
                {
                    "output_type": "display_data",
                    "data": {
                        "text/html": "Total execution time: 00:00:00.017"
                    },
                    "metadata": {}
                },
                {
                    "output_type": "execute_result",
                    "metadata": {},
                    "execution_count": 3,
                    "data": {
                        "application/vnd.dataresource+json": {
                            "schema": {
                                "fields": [
                                    {
                                        "name": "AlbumId"
                                    }
                                ]
                            },
                            "data": []
                        },
                        "text/html": [
                            "<table>",
                            "<tr><th>AlbumId</th></tr>",
                            "</table>"
                        ]
                    }
                }
            ],
            "execution_count": 3
        },
        {
            "cell_type": "markdown",
            "source": [
                "#### b)"
            ],
            "metadata": {
                "azdata_cell_guid": "1128ae95-3052-4c28-aa81-8e89800d1fde"
            },
            "attachments": {}
        },
        {
            "cell_type": "code",
            "source": [
                "WITH albumesXartista_incompleto AS (\n",
                "    SELECT al.ArtistId, COUNT(DISTINCT al.AlbumId) Cantidad FROM Album al\n",
                "    INNER JOIN Track t ON t.AlbumId = al.AlbumId\n",
                "    INNER JOIN PlaylistTrack pt ON pt.TrackId = t.TrackId\n",
                "    GROUP BY al.ArtistId\n",
                "),\n",
                "albumesXartista AS (\n",
                "    SELECT ar.ArtistId, ar.Name, COALESCE(aa.Cantidad,0) Cantidad FROM Artist ar \n",
                "    LEFT JOIN albumesXartista_incompleto aa ON ar.ArtistId = aa.ArtistId \n",
                ")\n",
                "SELECT axa.Name,axa.Cantidad FROM albumesXartista axa\n",
                "WHERE axa.Cantidad = (SELECT MIN(axa2.Cantidad) FROM albumesXartista axa2)\n",
                ";"
            ],
            "metadata": {
                "azdata_cell_guid": "3c2afe75-c461-48d6-9994-0824aabdb871",
                "language": "sql"
            },
            "outputs": [
                {
                    "output_type": "display_data",
                    "data": {
                        "text/html": "(71 rows affected)"
                    },
                    "metadata": {}
                },
                {
                    "output_type": "display_data",
                    "data": {
                        "text/html": "Total execution time: 00:00:00.025"
                    },
                    "metadata": {}
                },
                {
                    "output_type": "execute_result",
                    "metadata": {},
                    "execution_count": 6,
                    "data": {
                        "application/vnd.dataresource+json": {
                            "schema": {
                                "fields": [
                                    {
                                        "name": "Name"
                                    },
                                    {
                                        "name": "Cantidad"
                                    }
                                ]
                            },
                            "data": [
                                {
                                    "Name": "Milton Nascimento & Bebeto",
                                    "Cantidad": "0"
                                },
                                {
                                    "Name": "Azymuth",
                                    "Cantidad": "0"
                                },
                                {
                                    "Name": "João Gilberto",
                                    "Cantidad": "0"
                                },
                                {
                                    "Name": "Bebel Gilberto",
                                    "Cantidad": "0"
                                },
                                {
                                    "Name": "Jorge Vercilo",
                                    "Cantidad": "0"
                                },
                                {
                                    "Name": "Baby Consuelo",
                                    "Cantidad": "0"
                                },
                                {
                                    "Name": "Ney Matogrosso",
                                    "Cantidad": "0"
                                },
                                {
                                    "Name": "Luiz Melodia",
                                    "Cantidad": "0"
                                },
                                {
                                    "Name": "Nando Reis",
                                    "Cantidad": "0"
                                },
                                {
                                    "Name": "Pedro Luís & A Parede",
                                    "Cantidad": "0"
                                },
                                {
                                    "Name": "Banda Black Rio",
                                    "Cantidad": "0"
                                },
                                {
                                    "Name": "Fernanda Porto",
                                    "Cantidad": "0"
                                },
                                {
                                    "Name": "Os Cariocas",
                                    "Cantidad": "0"
                                },
                                {
                                    "Name": "A Cor Do Som",
                                    "Cantidad": "0"
                                },
                                {
                                    "Name": "Kid Abelha",
                                    "Cantidad": "0"
                                },
                                {
                                    "Name": "Sandra De Sá",
                                    "Cantidad": "0"
                                },
                                {
                                    "Name": "Hermeto Pascoal",
                                    "Cantidad": "0"
                                },
                                {
                                    "Name": "Barão Vermelho",
                                    "Cantidad": "0"
                                },
                                {
                                    "Name": "Edson, DJ Marky & DJ Patife Featuring Fernanda Porto",
                                    "Cantidad": "0"
                                },
                                {
                                    "Name": "Santana Feat. Dave Matthews",
                                    "Cantidad": "0"
                                },
                                {
                                    "Name": "Santana Feat. Everlast",
                                    "Cantidad": "0"
                                },
                                {
                                    "Name": "Santana Feat. Rob Thomas",
                                    "Cantidad": "0"
                                },
                                {
                                    "Name": "Santana Feat. Lauryn Hill & Cee-Lo",
                                    "Cantidad": "0"
                                },
                                {
                                    "Name": "Santana Feat. The Project G&B",
                                    "Cantidad": "0"
                                },
                                {
                                    "Name": "Santana Feat. Maná",
                                    "Cantidad": "0"
                                },
                                {
                                    "Name": "Santana Feat. Eagle-Eye Cherry",
                                    "Cantidad": "0"
                                },
                                {
                                    "Name": "Santana Feat. Eric Clapton",
                                    "Cantidad": "0"
                                },
                                {
                                    "Name": "Vinícius De Moraes & Baden Powell",
                                    "Cantidad": "0"
                                },
                                {
                                    "Name": "Vinícius E Qurteto Em Cy",
                                    "Cantidad": "0"
                                },
                                {
                                    "Name": "Vinícius E Odette Lara",
                                    "Cantidad": "0"
                                },
                                {
                                    "Name": "Vinicius, Toquinho & Quarteto Em Cy",
                                    "Cantidad": "0"
                                },
                                {
                                    "Name": "Motörhead & Girlschool",
                                    "Cantidad": "0"
                                },
                                {
                                    "Name": "Peter Tosh",
                                    "Cantidad": "0"
                                },
                                {
                                    "Name": "R.E.M. Feat. KRS-One",
                                    "Cantidad": "0"
                                },
                                {
                                    "Name": "Simply Red",
                                    "Cantidad": "0"
                                },
                                {
                                    "Name": "Whitesnake",
                                    "Cantidad": "0"
                                },
                                {
                                    "Name": "Christina Aguilera featuring BigElf",
                                    "Cantidad": "0"
                                },
                                {
                                    "Name": "Aerosmith & Sierra Leone's Refugee Allstars",
                                    "Cantidad": "0"
                                },
                                {
                                    "Name": "Los Lonely Boys",
                                    "Cantidad": "0"
                                },
                                {
                                    "Name": "Corinne Bailey Rae",
                                    "Cantidad": "0"
                                },
                                {
                                    "Name": "Dhani Harrison & Jakob Dylan",
                                    "Cantidad": "0"
                                },
                                {
                                    "Name": "Jackson Browne",
                                    "Cantidad": "0"
                                },
                                {
                                    "Name": "Avril Lavigne",
                                    "Cantidad": "0"
                                },
                                {
                                    "Name": "Big & Rich",
                                    "Cantidad": "0"
                                },
                                {
                                    "Name": "Youssou N'Dour",
                                    "Cantidad": "0"
                                },
                                {
                                    "Name": "Black Eyed Peas",
                                    "Cantidad": "0"
                                },
                                {
                                    "Name": "Jack Johnson",
                                    "Cantidad": "0"
                                },
                                {
                                    "Name": "Ben Harper",
                                    "Cantidad": "0"
                                },
                                {
                                    "Name": "Snow Patrol",
                                    "Cantidad": "0"
                                },
                                {
                                    "Name": "Matisyahu",
                                    "Cantidad": "0"
                                },
                                {
                                    "Name": "The Postal Service",
                                    "Cantidad": "0"
                                },
                                {
                                    "Name": "Jaguares",
                                    "Cantidad": "0"
                                },
                                {
                                    "Name": "The Flaming Lips",
                                    "Cantidad": "0"
                                },
                                {
                                    "Name": "Jack's Mannequin & Mick Fleetwood",
                                    "Cantidad": "0"
                                },
                                {
                                    "Name": "Regina Spektor",
                                    "Cantidad": "0"
                                },
                                {
                                    "Name": "Xis",
                                    "Cantidad": "0"
                                },
                                {
                                    "Name": "Nega Gizza",
                                    "Cantidad": "0"
                                },
                                {
                                    "Name": "Gustavo & Andres Veiga & Salazar",
                                    "Cantidad": "0"
                                },
                                {
                                    "Name": "Rodox",
                                    "Cantidad": "0"
                                },
                                {
                                    "Name": "Charlie Brown Jr.",
                                    "Cantidad": "0"
                                },
                                {
                                    "Name": "Pedro Luís E A Parede",
                                    "Cantidad": "0"
                                },
                                {
                                    "Name": "Los Hermanos",
                                    "Cantidad": "0"
                                },
                                {
                                    "Name": "Mundo Livre S/A",
                                    "Cantidad": "0"
                                },
                                {
                                    "Name": "Otto",
                                    "Cantidad": "0"
                                },
                                {
                                    "Name": "Instituto",
                                    "Cantidad": "0"
                                },
                                {
                                    "Name": "Nação Zumbi",
                                    "Cantidad": "0"
                                },
                                {
                                    "Name": "DJ Dolores & Orchestra Santa Massa",
                                    "Cantidad": "0"
                                },
                                {
                                    "Name": "Seu Jorge",
                                    "Cantidad": "0"
                                },
                                {
                                    "Name": "Sabotage E Instituto",
                                    "Cantidad": "0"
                                },
                                {
                                    "Name": "Stereo Maracana",
                                    "Cantidad": "0"
                                },
                                {
                                    "Name": "Academy of St. Martin in the Fields, Sir Neville Marriner & William Bennett",
                                    "Cantidad": "0"
                                }
                            ]
                        },
                        "text/html": [
                            "<table>",
                            "<tr><th>Name</th><th>Cantidad</th></tr>",
                            "<tr><td>Milton Nascimento &amp; Bebeto</td><td>0</td></tr>",
                            "<tr><td>Azymuth</td><td>0</td></tr>",
                            "<tr><td>João Gilberto</td><td>0</td></tr>",
                            "<tr><td>Bebel Gilberto</td><td>0</td></tr>",
                            "<tr><td>Jorge Vercilo</td><td>0</td></tr>",
                            "<tr><td>Baby Consuelo</td><td>0</td></tr>",
                            "<tr><td>Ney Matogrosso</td><td>0</td></tr>",
                            "<tr><td>Luiz Melodia</td><td>0</td></tr>",
                            "<tr><td>Nando Reis</td><td>0</td></tr>",
                            "<tr><td>Pedro Luís &amp; A Parede</td><td>0</td></tr>",
                            "<tr><td>Banda Black Rio</td><td>0</td></tr>",
                            "<tr><td>Fernanda Porto</td><td>0</td></tr>",
                            "<tr><td>Os Cariocas</td><td>0</td></tr>",
                            "<tr><td>A Cor Do Som</td><td>0</td></tr>",
                            "<tr><td>Kid Abelha</td><td>0</td></tr>",
                            "<tr><td>Sandra De Sá</td><td>0</td></tr>",
                            "<tr><td>Hermeto Pascoal</td><td>0</td></tr>",
                            "<tr><td>Barão Vermelho</td><td>0</td></tr>",
                            "<tr><td>Edson, DJ Marky &amp; DJ Patife Featuring Fernanda Porto</td><td>0</td></tr>",
                            "<tr><td>Santana Feat. Dave Matthews</td><td>0</td></tr>",
                            "<tr><td>Santana Feat. Everlast</td><td>0</td></tr>",
                            "<tr><td>Santana Feat. Rob Thomas</td><td>0</td></tr>",
                            "<tr><td>Santana Feat. Lauryn Hill &amp; Cee-Lo</td><td>0</td></tr>",
                            "<tr><td>Santana Feat. The Project G&amp;B</td><td>0</td></tr>",
                            "<tr><td>Santana Feat. Maná</td><td>0</td></tr>",
                            "<tr><td>Santana Feat. Eagle-Eye Cherry</td><td>0</td></tr>",
                            "<tr><td>Santana Feat. Eric Clapton</td><td>0</td></tr>",
                            "<tr><td>Vinícius De Moraes &amp; Baden Powell</td><td>0</td></tr>",
                            "<tr><td>Vinícius E Qurteto Em Cy</td><td>0</td></tr>",
                            "<tr><td>Vinícius E Odette Lara</td><td>0</td></tr>",
                            "<tr><td>Vinicius, Toquinho &amp; Quarteto Em Cy</td><td>0</td></tr>",
                            "<tr><td>Motörhead &amp; Girlschool</td><td>0</td></tr>",
                            "<tr><td>Peter Tosh</td><td>0</td></tr>",
                            "<tr><td>R.E.M. Feat. KRS-One</td><td>0</td></tr>",
                            "<tr><td>Simply Red</td><td>0</td></tr>",
                            "<tr><td>Whitesnake</td><td>0</td></tr>",
                            "<tr><td>Christina Aguilera featuring BigElf</td><td>0</td></tr>",
                            "<tr><td>Aerosmith &amp; Sierra Leone&#39;s Refugee Allstars</td><td>0</td></tr>",
                            "<tr><td>Los Lonely Boys</td><td>0</td></tr>",
                            "<tr><td>Corinne Bailey Rae</td><td>0</td></tr>",
                            "<tr><td>Dhani Harrison &amp; Jakob Dylan</td><td>0</td></tr>",
                            "<tr><td>Jackson Browne</td><td>0</td></tr>",
                            "<tr><td>Avril Lavigne</td><td>0</td></tr>",
                            "<tr><td>Big &amp; Rich</td><td>0</td></tr>",
                            "<tr><td>Youssou N&#39;Dour</td><td>0</td></tr>",
                            "<tr><td>Black Eyed Peas</td><td>0</td></tr>",
                            "<tr><td>Jack Johnson</td><td>0</td></tr>",
                            "<tr><td>Ben Harper</td><td>0</td></tr>",
                            "<tr><td>Snow Patrol</td><td>0</td></tr>",
                            "<tr><td>Matisyahu</td><td>0</td></tr>",
                            "<tr><td>The Postal Service</td><td>0</td></tr>",
                            "<tr><td>Jaguares</td><td>0</td></tr>",
                            "<tr><td>The Flaming Lips</td><td>0</td></tr>",
                            "<tr><td>Jack&#39;s Mannequin &amp; Mick Fleetwood</td><td>0</td></tr>",
                            "<tr><td>Regina Spektor</td><td>0</td></tr>",
                            "<tr><td>Xis</td><td>0</td></tr>",
                            "<tr><td>Nega Gizza</td><td>0</td></tr>",
                            "<tr><td>Gustavo &amp; Andres Veiga &amp; Salazar</td><td>0</td></tr>",
                            "<tr><td>Rodox</td><td>0</td></tr>",
                            "<tr><td>Charlie Brown Jr.</td><td>0</td></tr>",
                            "<tr><td>Pedro Luís E A Parede</td><td>0</td></tr>",
                            "<tr><td>Los Hermanos</td><td>0</td></tr>",
                            "<tr><td>Mundo Livre S/A</td><td>0</td></tr>",
                            "<tr><td>Otto</td><td>0</td></tr>",
                            "<tr><td>Instituto</td><td>0</td></tr>",
                            "<tr><td>Nação Zumbi</td><td>0</td></tr>",
                            "<tr><td>DJ Dolores &amp; Orchestra Santa Massa</td><td>0</td></tr>",
                            "<tr><td>Seu Jorge</td><td>0</td></tr>",
                            "<tr><td>Sabotage E Instituto</td><td>0</td></tr>",
                            "<tr><td>Stereo Maracana</td><td>0</td></tr>",
                            "<tr><td>Academy of St. Martin in the Fields, Sir Neville Marriner &amp; William Bennett</td><td>0</td></tr>",
                            "</table>"
                        ]
                    }
                }
            ],
            "execution_count": 6
        }
    ]
}